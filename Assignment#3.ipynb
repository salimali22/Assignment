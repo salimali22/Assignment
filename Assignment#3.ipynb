{
 "cells": [
  {
   "cell_type": "code",
   "execution_count": 3,
   "metadata": {},
   "outputs": [
    {
     "name": "stdout",
     "output_type": "stream",
     "text": [
      "Enter the operator and p for powerp\n",
      "Enter the Value2\n",
      "Enter the power2\n",
      "4\n"
     ]
    }
   ],
   "source": [
    "oper=input(\"Enter the operator and p for power\")\n",
    "value=1\n",
    "if oper == 'p':\n",
    "    val=int(input(\"Enter the Value\"))\n",
    "    pow=int(input(\"Enter the power\"))\n",
    "    a=1\n",
    "    while a<pow+1:\n",
    "        value=value*val\n",
    "        a=a+1\n",
    "    print(value)    \n",
    "else:        \n",
    "    val1= int(input(\"Enter the First Number\"))\n",
    "    val2= int(input(\"Enter the Second Number\"))\n",
    "\n",
    "    if oper=='+':\n",
    "        print(val1+val2)\n",
    "    elif oper=='-':\n",
    "        print(val1-val2) \n",
    "    elif oper=='*':\n",
    "        print(val1*val2)\n",
    "    elif oper=='/':\n",
    "        print(val1/val2)"
   ]
  },
  {
   "cell_type": "code",
   "execution_count": 4,
   "metadata": {},
   "outputs": [
    {
     "name": "stdout",
     "output_type": "stream",
     "text": [
      "[12, 33, 1]\n"
     ]
    }
   ],
   "source": [
    "c=[]\n",
    "a=[12,33,'a',\"Salim\",1]\n",
    "for each in a:\n",
    "    b=str(each)\n",
    "    if b.isdigit():\n",
    "        b=int(b)\n",
    "        c.append(b)\n",
    "\n",
    "print(c)"
   ]
  },
  {
   "cell_type": "code",
   "execution_count": 5,
   "metadata": {},
   "outputs": [
    {
     "name": "stdout",
     "output_type": "stream",
     "text": [
      "{'key': 0}\n"
     ]
    }
   ],
   "source": [
    "Dict = {}\n",
    "Dict[\"key\"] =0\n",
    "print(Dict)"
   ]
  },
  {
   "cell_type": "code",
   "execution_count": 6,
   "metadata": {},
   "outputs": [
    {
     "name": "stdout",
     "output_type": "stream",
     "text": [
      "46\n"
     ]
    }
   ],
   "source": [
    "c=[]\n",
    "a={1:12,2:33,3:'a',4:\"Salim\",5:1}\n",
    "for each in a.values():\n",
    "    b=str(each)\n",
    "    if b.isdigit():\n",
    "        b=int(b)\n",
    "        c.append(b)\n",
    "\n",
    "        \n",
    "print(sum(c))"
   ]
  },
  {
   "cell_type": "code",
   "execution_count": 7,
   "metadata": {},
   "outputs": [
    {
     "name": "stdout",
     "output_type": "stream",
     "text": [
      "[12, 33]\n"
     ]
    }
   ],
   "source": [
    "a=[12,33,190,33,345,12,1,4]\n",
    "c=[]\n",
    "b =[]\n",
    "\n",
    "for a1 in a:\n",
    "    count =0\n",
    "    for a2 in a: \n",
    "        if a1 == a2:\n",
    "            count= count +1\n",
    "    if count>1:\n",
    "            c.append(a1)\n",
    "            a.remove(a1)\n",
    "print(c)"
   ]
  },
  {
   "cell_type": "code",
   "execution_count": 8,
   "metadata": {},
   "outputs": [
    {
     "name": "stdout",
     "output_type": "stream",
     "text": [
      "Enter Key1\n",
      "Matched\n"
     ]
    }
   ],
   "source": [
    "a={1:12,2:\"salim\",3:'a',25:'0'}\n",
    "b = input(\"Enter Key\")\n",
    "for each in a.keys():\n",
    "    each = str(each)\n",
    "    if each==b:\n",
    "        print(\"Matched\") \n",
    "    \n",
    " "
   ]
  },
  {
   "cell_type": "code",
   "execution_count": null,
   "metadata": {},
   "outputs": [],
   "source": []
  }
 ],
 "metadata": {
  "kernelspec": {
   "display_name": "Python 3",
   "language": "python",
   "name": "python3"
  },
  "language_info": {
   "codemirror_mode": {
    "name": "ipython",
    "version": 3
   },
   "file_extension": ".py",
   "mimetype": "text/x-python",
   "name": "python",
   "nbconvert_exporter": "python",
   "pygments_lexer": "ipython3",
   "version": "3.7.4"
  }
 },
 "nbformat": 4,
 "nbformat_minor": 2
}
