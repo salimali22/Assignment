{
 "cells": [
  {
   "cell_type": "code",
   "execution_count": 1,
   "metadata": {},
   "outputs": [
    {
     "name": "stdout",
     "output_type": "stream",
     "text": [
      "Twinkle, twinkle, little star,\n",
      "\tHow I wonder what you are!\n",
      "\t\tUp above the world so high,\n",
      "\t\tLike a diamond in the sky.\n",
      "Twinkle, twinkle, little star,\n",
      "\tHow I wonder what you are\n"
     ]
    }
   ],
   "source": [
    "print(\"Twinkle, twinkle, little star,\\n\\tHow I wonder what you are!\\n\\t\\tUp above the world so high,\\n\\t\\tLike a diamond in the sky.\\nTwinkle, twinkle, little star,\\n\\tHow I wonder what you are\")"
   ]
  },
  {
   "cell_type": "code",
   "execution_count": 3,
   "metadata": {},
   "outputs": [
    {
     "name": "stdout",
     "output_type": "stream",
     "text": [
      "3.7.4 (default, Aug  9 2019, 18:34:13) [MSC v.1915 64 bit (AMD64)]\n"
     ]
    }
   ],
   "source": [
    "import sys\n",
    "print(sys.version)"
   ]
  },
  {
   "cell_type": "code",
   "execution_count": 5,
   "metadata": {},
   "outputs": [
    {
     "name": "stdout",
     "output_type": "stream",
     "text": [
      "2019-11-03 20:44:19.869271\n"
     ]
    }
   ],
   "source": [
    "from datetime import datetime\n",
    "print(datetime.now())"
   ]
  },
  {
   "cell_type": "code",
   "execution_count": 7,
   "metadata": {},
   "outputs": [
    {
     "name": "stdout",
     "output_type": "stream",
     "text": [
      "Enter the radius of Circle2.18\n",
      "13.690400000000002\n"
     ]
    }
   ],
   "source": [
    "a = float(input(\"Enter the radius of Circle\"))\n",
    "print(2*3.14*a)"
   ]
  },
  {
   "cell_type": "markdown",
   "metadata": {},
   "source": [
    "n1 =input(\"Enter the first name\")\n",
    "n2 = input(\"Enter the last name\")\n",
    "for s in &n1\n",
    "    count+=1\n",
    "for s in &n2\n",
    "    count2 +=1\n",
    "for s in &n1\n",
    "    s1 =n1[count] + \" \"\n",
    "    count -=1\n",
    "print(s1)    "
   ]
  },
  {
   "cell_type": "code",
   "execution_count": null,
   "metadata": {},
   "outputs": [],
   "source": []
  },
  {
   "cell_type": "code",
   "execution_count": null,
   "metadata": {},
   "outputs": [],
   "source": []
  },
  {
   "cell_type": "code",
   "execution_count": null,
   "metadata": {},
   "outputs": [],
   "source": []
  },
  {
   "cell_type": "code",
   "execution_count": 8,
   "metadata": {},
   "outputs": [
    {
     "ename": "SyntaxError",
     "evalue": "invalid syntax (<ipython-input-8-0e0b8f12ea74>, line 3)",
     "output_type": "error",
     "traceback": [
      "\u001b[1;36m  File \u001b[1;32m\"<ipython-input-8-0e0b8f12ea74>\"\u001b[1;36m, line \u001b[1;32m3\u001b[0m\n\u001b[1;33m    for s in &n1\u001b[0m\n\u001b[1;37m             ^\u001b[0m\n\u001b[1;31mSyntaxError\u001b[0m\u001b[1;31m:\u001b[0m invalid syntax\n"
     ]
    }
   ],
   "source": [
    "n1 =input(\"Enter the first name\")\n",
    "n2 = input(\"Enter the last name\")\n",
    "for s in &n1\n",
    "    count+=1\n",
    "for s in &n2\n",
    "    count2 +=1\n",
    "for s in &n1\n",
    "    s1 =n1[count] + \" \"\n",
    "    count -=1\n",
    "print(s1) "
   ]
  },
  {
   "cell_type": "code",
   "execution_count": 18,
   "metadata": {},
   "outputs": [
    {
     "name": "stdout",
     "output_type": "stream",
     "text": [
      "Enter the first nameSalim\n",
      "Enter the last nameAli Khan\n",
      "m i l a S \n",
      "m i l a S \n",
      "n a h K   i l A \n"
     ]
    }
   ],
   "source": [
    "n1 =input(\"Enter the first name\")\n",
    "n2 = input(\"Enter the last name\")\n",
    "count=0\n",
    "count2=0\n",
    "for s in n1:\n",
    "    count+=1\n",
    "for s in n2:\n",
    "    count2 +=1\n",
    "for s in n1:\n",
    "    if s == n1[0]:\n",
    "        s1 =n1[count-1] + \" \"\n",
    "    else:\n",
    "        s1 =  s1 + n1[count-1] + \" \"\n",
    "    count -=1\n",
    "print(s1) \n",
    "for s in n2:\n",
    "    if s == n2[0]:\n",
    "        s2 =n2[count2-1] + \" \"\n",
    "    else:\n",
    "        s2 =  s2 + n2[count2-1] + \" \"\n",
    "    count2 -=1\n",
    "print(s1) \n",
    "print(s2) "
   ]
  },
  {
   "cell_type": "code",
   "execution_count": 22,
   "metadata": {},
   "outputs": [
    {
     "name": "stdout",
     "output_type": "stream",
     "text": [
      "Enter First Number23\n",
      "Enter Second number45\n",
      "0.5111111111111111\n"
     ]
    }
   ],
   "source": [
    "num1 = float(input(\"Enter First Number\"))\n",
    "num2 = float(input(\"Enter Second number\"))\n",
    "print(num1 + num2)"
   ]
  },
  {
   "cell_type": "code",
   "execution_count": null,
   "metadata": {},
   "outputs": [],
   "source": []
  }
 ],
 "metadata": {
  "kernelspec": {
   "display_name": "Python 3",
   "language": "python",
   "name": "python3"
  },
  "language_info": {
   "codemirror_mode": {
    "name": "ipython",
    "version": 3
   },
   "file_extension": ".py",
   "mimetype": "text/x-python",
   "name": "python",
   "nbconvert_exporter": "python",
   "pygments_lexer": "ipython3",
   "version": "3.7.4"
  }
 },
 "nbformat": 4,
 "nbformat_minor": 2
}
