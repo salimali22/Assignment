{
 "cells": [
  {
   "cell_type": "code",
   "execution_count": 7,
   "metadata": {},
   "outputs": [
    {
     "name": "stdout",
     "output_type": "stream",
     "text": [
      "{'first_name': 'Salim', 'last_name': 'Ali Khan', 'age': 18, 'city': 'Karachi', 'qualification': 'Matric'}\n",
      "{'first_name': 'Salim', 'last_name': 'Ali Khan', 'age': 18, 'city': 'Karachi', 'qualification': 'Intermediate'}\n",
      "{'first_name': 'Salim', 'last_name': 'Ali Khan', 'age': 18, 'city': 'Karachi'}\n"
     ]
    }
   ],
   "source": [
    "person = {\n",
    "\"first_name\" : \"Salim\",\n",
    "\"last_name\"  : \"Ali Khan\",\n",
    "\"age\" : 18,\n",
    "\"city\": \"Karachi\"    \n",
    "}\n",
    "person[\"qualification\"] = \"Matric\"\n",
    "print(person)\n",
    "person[\"qualification\"] = \"Intermediate\"\n",
    "print(person)\n",
    "del person[\"qualification\"]\n",
    "print(person)"
   ]
  },
  {
   "cell_type": "code",
   "execution_count": 12,
   "metadata": {},
   "outputs": [
    {
     "name": "stdout",
     "output_type": "stream",
     "text": [
      "Karachi is now Pakistan's premier industrial and financial centre\n"
     ]
    }
   ],
   "source": [
    "cities = {\n",
    "    \"Karachi\":{\n",
    "\"country\" : \"Pakistan\",\n",
    "  \"population\" : 14900000,      \n",
    "  \"fact\" : \"Karachi is now Pakistan's premier industrial and financial centre\"  },\n",
    " \"LasVegas\": {\n",
    "     \"country\" : \"USA\",\n",
    "     \"population\" : 2227053,\n",
    "     \"fact\" : \" The Entertainment Capital of the World, and is famous for its mega casino–hotels and associated activities\"\n",
    " } ,\n",
    " \"dubai\" : {\n",
    "     \"country\": \"UAE\",\n",
    "     \"population\": 3137000,\n",
    "\"fact\" : \"Burj Khalifa is the world’s tallest building, and it’s for sure the most impressive part of the skyline here\"\n",
    " }   \n",
    "}\n",
    "print(cities[\"Karachi\"][\"fact\"])"
   ]
  },
  {
   "cell_type": "code",
   "execution_count": 15,
   "metadata": {
    "scrolled": true
   },
   "outputs": [
    {
     "name": "stdout",
     "output_type": "stream",
     "text": [
      "Enter your age for ticket price  5\n",
      "ticket is $10\n"
     ]
    }
   ],
   "source": [
    "age = int(input(\"Enter your age for ticket price  \"))\n",
    "if age < 3:\n",
    "    print(\"ticket is free\")\n",
    "\n",
    "elif age>= 3 and age<=12:\n",
    "    print(\"ticket is $10\")\n",
    "\n",
    "else:\n",
    "    print(\"ticket is $15\")    "
   ]
  },
  {
   "cell_type": "code",
   "execution_count": 17,
   "metadata": {},
   "outputs": [
    {
     "name": "stdout",
     "output_type": "stream",
     "text": [
      "One of my favorite book is Alice the Wonderland\n"
     ]
    }
   ],
   "source": [
    "def favorite_book(tittle):\n",
    "    print(\"One of my favorite book is \"+tittle)\n",
    "    \n",
    "    \n",
    "favorite_book(\"Alice the Wonderland\")    "
   ]
  },
  {
   "cell_type": "code",
   "execution_count": 1,
   "metadata": {},
   "outputs": [
    {
     "name": "stdout",
     "output_type": "stream",
     "text": [
      "You have three Chances\n",
      "Guess the number: 2\n",
      "Hidden number is greater\n",
      "Guess the number: 10\n",
      "Hidden number is greater\n",
      "Guess the number: 25\n",
      "Hindden number is lesser\n",
      "number is  14\n"
     ]
    }
   ],
   "source": [
    "import random\n",
    "num = random.randint(0,30)\n",
    "print(\"You have three Chances\")\n",
    "for a in range(0,3):\n",
    "    b = int(input(\"Guess the number: \"))\n",
    "    if b == num:\n",
    "        print(\"Enter the number is matched\")\n",
    "        break\n",
    "    elif b > num:\n",
    "        print(\"Hindden number is lesser\")\n",
    "    else:\n",
    "        print(\"Hidden number is greater\")\n",
    "print(\"number is \",num)        "
   ]
  },
  {
   "cell_type": "code",
   "execution_count": null,
   "metadata": {},
   "outputs": [],
   "source": []
  }
 ],
 "metadata": {
  "kernelspec": {
   "display_name": "Python 3",
   "language": "python",
   "name": "python3"
  },
  "language_info": {
   "codemirror_mode": {
    "name": "ipython",
    "version": 3
   },
   "file_extension": ".py",
   "mimetype": "text/x-python",
   "name": "python",
   "nbconvert_exporter": "python",
   "pygments_lexer": "ipython3",
   "version": "3.7.4"
  }
 },
 "nbformat": 4,
 "nbformat_minor": 2
}
