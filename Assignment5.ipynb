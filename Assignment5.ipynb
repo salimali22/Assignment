{
 "cells": [
  {
   "cell_type": "code",
   "execution_count": 1,
   "metadata": {},
   "outputs": [
    {
     "name": "stdout",
     "output_type": "stream",
     "text": [
      "6\n"
     ]
    }
   ],
   "source": [
    "def factorial(a):\n",
    "    if a == 1 or a ==0:\n",
    "        return 1\n",
    "    else:\n",
    "        b=a+factorial(a-1)\n",
    "        return b\n",
    "c=factorial(3)\n",
    "print(c)"
   ]
  },
  {
   "cell_type": "code",
   "execution_count": 2,
   "metadata": {},
   "outputs": [
    {
     "name": "stdout",
     "output_type": "stream",
     "text": [
      "Enter the StringSalimAli\n",
      "No. of Upper Case Letter: 2 \n",
      "No. of Lower Case Letter: 6\n"
     ]
    }
   ],
   "source": [
    "\n",
    "\n",
    "def check(string):\n",
    "    a=0\n",
    "    b=0\n",
    "    for i in string:\n",
    "        if i.isupper():\n",
    "            b=b+1\n",
    "        else:\n",
    "            a=a+1\n",
    "    \n",
    "    print(\"No. of Upper Case Letter:\",b,\"\\nNo. of Lower Case Letter:\",a)\n",
    "\n",
    "string = input(\"Enter the String\")\n",
    "check(string)"
   ]
  },
  {
   "cell_type": "code",
   "execution_count": 4,
   "metadata": {},
   "outputs": [
    {
     "name": "stdout",
     "output_type": "stream",
     "text": [
      "2\n",
      "4\n",
      "6\n",
      "8\n",
      "8\n",
      "8\n",
      "0\n"
     ]
    }
   ],
   "source": [
    "def even(a):\n",
    "    for i in range(len(a)):\n",
    "        if a[i] % 2==0:\n",
    "            print(a[i])\n",
    "\n",
    "b=[1,2,3,3,4,5,6,7,8,8,8,9,0]     \n",
    "even(b)"
   ]
  },
  {
   "cell_type": "code",
   "execution_count": 5,
   "metadata": {},
   "outputs": [
    {
     "name": "stdout",
     "output_type": "stream",
     "text": [
      "Enter the String to check palindrome or not: adam\n",
      "Number is not palindrome\n"
     ]
    }
   ],
   "source": [
    "def palin(st):\n",
    "    st = string[::-1]\n",
    "    if st == string:\n",
    "        print(\"Number is palindrome\")\n",
    "        \n",
    "    else:\n",
    "        print(\"Number is not palindrome\")\n",
    "\n",
    "\n",
    "string = input(\"Enter the String to check palindrome or not: \")\n",
    "palin(string)\n"
   ]
  },
  {
   "cell_type": "code",
   "execution_count": 11,
   "metadata": {},
   "outputs": [
    {
     "name": "stdout",
     "output_type": "stream",
     "text": [
      "Number is not Prime 25 5 0\n"
     ]
    }
   ],
   "source": [
    "def prime(a):\n",
    "    for i in range(2,a):\n",
    "        if (a%i)==0:\n",
    "            print(\"Number is not Prime\",a,i,a%i)\n",
    "            break\n",
    "    else:\n",
    "        print(\"Number is  prime\")\n",
    "            \n",
    "            \n",
    "prime(25)            "
   ]
  },
  {
   "cell_type": "code",
   "execution_count": 12,
   "metadata": {},
   "outputs": [
    {
     "name": "stdout",
     "output_type": "stream",
     "text": [
      "Person Bought:  Fruits\n",
      "Person Bought:  Candies\n",
      "Person Bought:  perfume\n"
     ]
    }
   ],
   "source": [
    "list = {1:\"Fruits\",2:\"Medicine\",3:\"Candies\",4:\"Stationary\",5:\"perfume\"}\n",
    "def chk(*value):\n",
    "    for i in value:\n",
    "        for j,k in list.items():\n",
    "            if i==j:\n",
    "                print(\"Person Bought: \",k)\n",
    "\n",
    "chk(1,3,5)                "
   ]
  },
  {
   "cell_type": "code",
   "execution_count": null,
   "metadata": {},
   "outputs": [],
   "source": []
  }
 ],
 "metadata": {
  "kernelspec": {
   "display_name": "Python 3",
   "language": "python",
   "name": "python3"
  },
  "language_info": {
   "codemirror_mode": {
    "name": "ipython",
    "version": 3
   },
   "file_extension": ".py",
   "mimetype": "text/x-python",
   "name": "python",
   "nbconvert_exporter": "python",
   "pygments_lexer": "ipython3",
   "version": "3.7.4"
  }
 },
 "nbformat": 4,
 "nbformat_minor": 2
}
