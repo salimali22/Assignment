{
 "cells": [
  {
   "cell_type": "code",
   "execution_count": 13,
   "metadata": {},
   "outputs": [
    {
     "name": "stdout",
     "output_type": "stream",
     "text": [
      "Enter the Marks out of 100 Subject1:100\n",
      "Enter the Marks out of 100 Subject2:99\n",
      "Enter the Marks out of 100 Subject3:87\n",
      "Enter the Marks out of 100 Subject4:67\n",
      "Enter the Marks out of 100 Subject5:98\n",
      "Total No.s are  451.0  out of 500 \n",
      "And Percentage:  90.2 \n",
      "With grade:  A+\n"
     ]
    }
   ],
   "source": [
    "sub1 = float(input(\"Enter the Marks out of 100 Subject1:\"))\n",
    "sub2 = float(input(\"Enter the Marks out of 100 Subject2:\"))\n",
    "sub3 = float(input(\"Enter the Marks out of 100 Subject3:\"))\n",
    "sub4 = float(input(\"Enter the Marks out of 100 Subject4:\"))\n",
    "sub5 = float(input(\"Enter the Marks out of 100 Subject5:\"))\n",
    "sub = sub1 +sub2 +sub3 + sub4 + sub5\n",
    "per = sub *100 / 500\n",
    "if per >= 80:\n",
    "    grade = 'A+'\n",
    "elif per >= 70 and per < 80:\n",
    "    grade = 'A'   \n",
    "elif per >= 60 and per < 70:\n",
    "    grade = 'B'\n",
    "elif per >= 50 and per < 60:\n",
    "    grade = 'C'\n",
    "elif per >= 40 and per <50:\n",
    "    grade = 'D'    \n",
    "else:\n",
    "    grade = 'F'\n",
    "    \n",
    "print(\"Total No.s are \",sub,\" out of 500 \\nAnd Percentage: \",per,\"\\nWith grade: \",grade)   "
   ]
  },
  {
   "cell_type": "code",
   "execution_count": 14,
   "metadata": {},
   "outputs": [
    {
     "name": "stdout",
     "output_type": "stream",
     "text": [
      "Enter the number to check5\n",
      "Number is Odd\n"
     ]
    }
   ],
   "source": [
    "num = int(input(\"Enter the number to check\"))\n",
    "if num%2==0:\n",
    "    print(\"Number is Even\")\n",
    "else:\n",
    "    print(\"Number is Odd\")"
   ]
  },
  {
   "cell_type": "code",
   "execution_count": 18,
   "metadata": {},
   "outputs": [
    {
     "name": "stdout",
     "output_type": "stream",
     "text": [
      "Length of list is: 5\n"
     ]
    }
   ],
   "source": [
    "list = [False, 'A', True, 56, 23.39]\n",
    "print(\"Length of list is:\",len(list))"
   ]
  },
  {
   "cell_type": "code",
   "execution_count": 19,
   "metadata": {},
   "outputs": [
    {
     "name": "stdout",
     "output_type": "stream",
     "text": [
      "Sum of elements of list is  15\n"
     ]
    }
   ],
   "source": [
    "plus = [1,2,3,4,5]\n",
    "print(\"Sum of elements of list is \",sum(plus))"
   ]
  },
  {
   "cell_type": "code",
   "execution_count": 22,
   "metadata": {},
   "outputs": [
    {
     "name": "stdout",
     "output_type": "stream",
     "text": [
      "Largest element of list is  32\n"
     ]
    }
   ],
   "source": [
    "plus = [1,2,32,4,5]\n",
    "print(\"Largest element of list is \",max(plus))"
   ]
  },
  {
   "cell_type": "code",
   "execution_count": 23,
   "metadata": {},
   "outputs": [
    {
     "name": "stdout",
     "output_type": "stream",
     "text": [
      "1\n",
      "2\n",
      "3\n"
     ]
    }
   ],
   "source": [
    "a = [10,1,2,3,5,8,31,211,34,55,89]\n",
    "for b in a:\n",
    "    if b<5:\n",
    "        print(b)"
   ]
  },
  {
   "cell_type": "code",
   "execution_count": null,
   "metadata": {},
   "outputs": [],
   "source": []
  }
 ],
 "metadata": {
  "kernelspec": {
   "display_name": "Python 3",
   "language": "python",
   "name": "python3"
  },
  "language_info": {
   "codemirror_mode": {
    "name": "ipython",
    "version": 3
   },
   "file_extension": ".py",
   "mimetype": "text/x-python",
   "name": "python",
   "nbconvert_exporter": "python",
   "pygments_lexer": "ipython3",
   "version": "3.7.4"
  }
 },
 "nbformat": 4,
 "nbformat_minor": 2
}
